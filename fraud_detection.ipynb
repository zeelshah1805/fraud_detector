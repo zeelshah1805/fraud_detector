{
  "nbformat": 4,
  "nbformat_minor": 0,
  "metadata": {
    "colab": {
      "provenance": []
    },
    "kernelspec": {
      "name": "python3",
      "display_name": "Python 3"
    },
    "language_info": {
      "name": "python"
    }
  },
  "cells": [
    {
      "cell_type": "code",
      "execution_count": 1,
      "metadata": {
        "id": "lANrAaWT0-KY"
      },
      "outputs": [],
      "source": [
        "# Importing necessary libraries\n",
        "import pandas as pd\n",
        "import numpy as np\n",
        "import matplotlib.pyplot as plt\n",
        "import seaborn as sns\n",
        "from sklearn.model_selection import train_test_split\n",
        "from sklearn.preprocessing import StandardScaler\n",
        "from sklearn.ensemble import RandomForestClassifier\n",
        "from sklearn.metrics import classification_report, roc_auc_score\n",
        "from imblearn.over_sampling import SMOTE\n"
      ]
    },
    {
      "cell_type": "code",
      "source": [
        "# Loading the dataset\n",
        "data = pd.read_csv('/content/creditcard_2023.csv')\n",
        "\n",
        "# Display the first few rows of the dataset\n",
        "print(data.head())\n",
        "\n",
        "# Basic information about the dataset\n",
        "print(data.info())\n",
        "\n",
        "# Summary statistics of numerical features\n",
        "print(data.describe())\n",
        "\n",
        "# Checking the class distribution\n",
        "print(data['Class'].value_counts())\n"
      ],
      "metadata": {
        "colab": {
          "base_uri": "https://localhost:8080/"
        },
        "id": "aN4a-mjV10s9",
        "outputId": "537e185c-6a03-4a49-c91c-da38c155526e"
      },
      "execution_count": 11,
      "outputs": [
        {
          "output_type": "stream",
          "name": "stdout",
          "text": [
            "   id        V1        V2        V3        V4        V5        V6        V7  \\\n",
            "0   0 -0.260648 -0.469648  2.496266 -0.083724  0.129681  0.732898  0.519014   \n",
            "1   1  0.985100 -0.356045  0.558056 -0.429654  0.277140  0.428605  0.406466   \n",
            "2   2 -0.260272 -0.949385  1.728538 -0.457986  0.074062  1.419481  0.743511   \n",
            "3   3 -0.152152 -0.508959  1.746840 -1.090178  0.249486  1.143312  0.518269   \n",
            "4   4 -0.206820 -0.165280  1.527053 -0.448293  0.106125  0.530549  0.658849   \n",
            "\n",
            "         V8        V9  ...       V21       V22       V23       V24       V25  \\\n",
            "0 -0.130006  0.727159  ... -0.110552  0.217606 -0.134794  0.165959  0.126280   \n",
            "1 -0.133118  0.347452  ... -0.194936 -0.605761  0.079469 -0.577395  0.190090   \n",
            "2 -0.095576 -0.261297  ... -0.005020  0.702906  0.945045 -1.154666 -0.605564   \n",
            "3 -0.065130 -0.205698  ... -0.146927 -0.038212 -0.214048 -1.893131  1.003963   \n",
            "4 -0.212660  1.049921  ... -0.106984  0.729727 -0.161666  0.312561 -0.414116   \n",
            "\n",
            "        V26       V27       V28    Amount  Class  \n",
            "0 -0.434824 -0.081230 -0.151045  17982.10      0  \n",
            "1  0.296503 -0.248052 -0.064512   6531.37      0  \n",
            "2 -0.312895 -0.300258 -0.244718   2513.54      0  \n",
            "3 -0.515950 -0.165316  0.048424   5384.44      0  \n",
            "4  1.071126  0.023712  0.419117  14278.97      0  \n",
            "\n",
            "[5 rows x 31 columns]\n",
            "<class 'pandas.core.frame.DataFrame'>\n",
            "RangeIndex: 568630 entries, 0 to 568629\n",
            "Data columns (total 31 columns):\n",
            " #   Column  Non-Null Count   Dtype  \n",
            "---  ------  --------------   -----  \n",
            " 0   id      568630 non-null  int64  \n",
            " 1   V1      568630 non-null  float64\n",
            " 2   V2      568630 non-null  float64\n",
            " 3   V3      568630 non-null  float64\n",
            " 4   V4      568630 non-null  float64\n",
            " 5   V5      568630 non-null  float64\n",
            " 6   V6      568630 non-null  float64\n",
            " 7   V7      568630 non-null  float64\n",
            " 8   V8      568630 non-null  float64\n",
            " 9   V9      568630 non-null  float64\n",
            " 10  V10     568630 non-null  float64\n",
            " 11  V11     568630 non-null  float64\n",
            " 12  V12     568630 non-null  float64\n",
            " 13  V13     568630 non-null  float64\n",
            " 14  V14     568630 non-null  float64\n",
            " 15  V15     568630 non-null  float64\n",
            " 16  V16     568630 non-null  float64\n",
            " 17  V17     568630 non-null  float64\n",
            " 18  V18     568630 non-null  float64\n",
            " 19  V19     568630 non-null  float64\n",
            " 20  V20     568630 non-null  float64\n",
            " 21  V21     568630 non-null  float64\n",
            " 22  V22     568630 non-null  float64\n",
            " 23  V23     568630 non-null  float64\n",
            " 24  V24     568630 non-null  float64\n",
            " 25  V25     568630 non-null  float64\n",
            " 26  V26     568630 non-null  float64\n",
            " 27  V27     568630 non-null  float64\n",
            " 28  V28     568630 non-null  float64\n",
            " 29  Amount  568630 non-null  float64\n",
            " 30  Class   568630 non-null  int64  \n",
            "dtypes: float64(29), int64(2)\n",
            "memory usage: 134.5 MB\n",
            "None\n",
            "                  id            V1            V2            V3            V4  \\\n",
            "count  568630.000000  5.686300e+05  5.686300e+05  5.686300e+05  5.686300e+05   \n",
            "mean   284314.500000 -5.638058e-17 -1.319545e-16 -3.518788e-17 -2.879008e-17   \n",
            "std    164149.486121  1.000001e+00  1.000001e+00  1.000001e+00  1.000001e+00   \n",
            "min         0.000000 -3.495584e+00 -4.996657e+01 -3.183760e+00 -4.951222e+00   \n",
            "25%    142157.250000 -5.652859e-01 -4.866777e-01 -6.492987e-01 -6.560203e-01   \n",
            "50%    284314.500000 -9.363846e-02 -1.358939e-01  3.528579e-04 -7.376152e-02   \n",
            "75%    426471.750000  8.326582e-01  3.435552e-01  6.285380e-01  7.070047e-01   \n",
            "max    568629.000000  2.229046e+00  4.361865e+00  1.412583e+01  3.201536e+00   \n",
            "\n",
            "                 V5            V6            V7            V8            V9  \\\n",
            "count  5.686300e+05  5.686300e+05  5.686300e+05  5.686300e+05  5.686300e+05   \n",
            "mean   7.997245e-18 -3.958636e-17 -3.198898e-17  2.109273e-17  3.998623e-17   \n",
            "std    1.000001e+00  1.000001e+00  1.000001e+00  1.000001e+00  1.000001e+00   \n",
            "min   -9.952786e+00 -2.111111e+01 -4.351839e+00 -1.075634e+01 -3.751919e+00   \n",
            "25%   -2.934955e-01 -4.458712e-01 -2.835329e-01 -1.922572e-01 -5.687446e-01   \n",
            "50%    8.108788e-02  7.871758e-02  2.333659e-01 -1.145242e-01  9.252647e-02   \n",
            "75%    4.397368e-01  4.977881e-01  5.259548e-01  4.729905e-02  5.592621e-01   \n",
            "max    4.271689e+01  2.616840e+01  2.178730e+02  5.958040e+00  2.027006e+01   \n",
            "\n",
            "       ...           V21           V22           V23           V24  \\\n",
            "count  ...  5.686300e+05  5.686300e+05  5.686300e+05  5.686300e+05   \n",
            "mean   ...  4.758361e-17  3.948640e-18  6.194741e-18 -2.799036e-18   \n",
            "std    ...  1.000001e+00  1.000001e+00  1.000001e+00  1.000001e+00   \n",
            "min    ... -1.938252e+01 -7.734798e+00 -3.029545e+01 -4.067968e+00   \n",
            "25%    ... -1.664408e-01 -4.904892e-01 -2.376289e-01 -6.515801e-01   \n",
            "50%    ... -3.743065e-02 -2.732881e-02 -5.968903e-02  1.590123e-02   \n",
            "75%    ...  1.479787e-01  4.638817e-01  1.557153e-01  7.007374e-01   \n",
            "max    ...  8.087080e+00  1.263251e+01  3.170763e+01  1.296564e+01   \n",
            "\n",
            "                V25           V26           V27           V28         Amount  \\\n",
            "count  5.686300e+05  5.686300e+05  5.686300e+05  5.686300e+05  568630.000000   \n",
            "mean  -3.178905e-17 -7.497417e-18 -3.598760e-17  2.609101e-17   12041.957635   \n",
            "std    1.000001e+00  1.000001e+00  1.000001e+00  1.000001e+00    6919.644449   \n",
            "min   -1.361263e+01 -8.226969e+00 -1.049863e+01 -3.903524e+01      50.010000   \n",
            "25%   -5.541485e-01 -6.318948e-01 -3.049607e-01 -2.318783e-01    6054.892500   \n",
            "50%   -8.193162e-03 -1.189208e-02 -1.729111e-01 -1.392973e-02   12030.150000   \n",
            "75%    5.500147e-01  6.728879e-01  3.340230e-01  4.095903e-01   18036.330000   \n",
            "max    1.462151e+01  5.623285e+00  1.132311e+02  7.725594e+01   24039.930000   \n",
            "\n",
            "          Class  \n",
            "count  568630.0  \n",
            "mean        0.5  \n",
            "std         0.5  \n",
            "min         0.0  \n",
            "25%         0.0  \n",
            "50%         0.5  \n",
            "75%         1.0  \n",
            "max         1.0  \n",
            "\n",
            "[8 rows x 31 columns]\n",
            "Class\n",
            "0    284315\n",
            "1    284315\n",
            "Name: count, dtype: int64\n"
          ]
        }
      ]
    },
    {
      "cell_type": "code",
      "source": [
        "# Checking columns with missing values\n",
        "missing_values = data.isnull().sum()\n",
        "print(missing_values[missing_values > 0])\n",
        "\n",
        "# Since there are only a few missing values, we can fill them with the mean or median.\n",
        "# Filling missing values with the median of each column\n",
        "data.fillna(data.median(), inplace=True)\n",
        "\n",
        "# Verifying if there are any missing values left\n",
        "missing_values_after = data.isnull().sum()\n",
        "print(missing_values_after[missing_values_after > 0])\n"
      ],
      "metadata": {
        "colab": {
          "base_uri": "https://localhost:8080/"
        },
        "id": "eRPJwBDF3IbI",
        "outputId": "fe14879c-3829-4a8c-e429-582c4e11eba1"
      },
      "execution_count": 12,
      "outputs": [
        {
          "output_type": "stream",
          "name": "stdout",
          "text": [
            "Series([], dtype: int64)\n",
            "Series([], dtype: int64)\n"
          ]
        }
      ]
    },
    {
      "cell_type": "code",
      "source": [
        "from sklearn.preprocessing import StandardScaler\n",
        "\n",
        "# Separating features (X) and target (y)\n",
        "X = data.drop(['Class', 'id'], axis=1)  # Dropping 'Class' and 'id' as they are not features\n",
        "y = data['Class']\n",
        "\n",
        "# Scaling features using StandardScaler\n",
        "scaler = StandardScaler()\n",
        "X_scaled = scaler.fit_transform(X)\n",
        "\n",
        "# Checking the first few rows of the scaled data\n",
        "print(pd.DataFrame(X_scaled, columns=X.columns).head())\n"
      ],
      "metadata": {
        "colab": {
          "base_uri": "https://localhost:8080/"
        },
        "id": "bqfJPGiu3CXj",
        "outputId": "62b9a62d-35d2-45ea-9986-d3d93203edb0"
      },
      "execution_count": 13,
      "outputs": [
        {
          "output_type": "stream",
          "name": "stdout",
          "text": [
            "         V1        V2        V3        V4        V5        V6        V7  \\\n",
            "0 -0.260648 -0.469648  2.496266 -0.083724  0.129681  0.732898  0.519014   \n",
            "1  0.985100 -0.356045  0.558056 -0.429654  0.277140  0.428605  0.406466   \n",
            "2 -0.260272 -0.949385  1.728538 -0.457986  0.074062  1.419481  0.743511   \n",
            "3 -0.152152 -0.508959  1.746840 -1.090178  0.249486  1.143312  0.518269   \n",
            "4 -0.206820 -0.165280  1.527053 -0.448293  0.106125  0.530549  0.658849   \n",
            "\n",
            "         V8        V9       V10  ...       V20       V21       V22       V23  \\\n",
            "0 -0.130006  0.727159  0.637735  ...  0.091202 -0.110552  0.217606 -0.134794   \n",
            "1 -0.133118  0.347452  0.529808  ... -0.233984 -0.194936 -0.605761  0.079469   \n",
            "2 -0.095576 -0.261297  0.690708  ...  0.361652 -0.005020  0.702906  0.945045   \n",
            "3 -0.065130 -0.205698  0.575231  ... -0.378223 -0.146927 -0.038212 -0.214048   \n",
            "4 -0.212660  1.049921  0.968046  ...  0.247237 -0.106984  0.729727 -0.161666   \n",
            "\n",
            "        V24       V25       V26       V27       V28    Amount  \n",
            "0  0.165959  0.126280 -0.434824 -0.081230 -0.151045  0.858447  \n",
            "1 -0.577395  0.190090  0.296503 -0.248052 -0.064512 -0.796369  \n",
            "2 -1.154666 -0.605564 -0.312895 -0.300258 -0.244718 -1.377011  \n",
            "3 -1.893131  1.003963 -0.515950 -0.165316  0.048424 -0.962119  \n",
            "4  0.312561 -0.414116  1.071126  0.023712  0.419117  0.323285  \n",
            "\n",
            "[5 rows x 29 columns]\n"
          ]
        }
      ]
    },
    {
      "cell_type": "code",
      "source": [
        "import matplotlib.pyplot as plt\n",
        "import seaborn as sns\n",
        "\n",
        "# Plotting boxplots for the features\n",
        "plt.figure(figsize=(12, 10))\n",
        "sns.boxplot(data=X_scaled)\n",
        "plt.xticks(rotation=90)\n",
        "plt.show()\n"
      ],
      "metadata": {
        "colab": {
          "base_uri": "https://localhost:8080/",
          "height": 834
        },
        "id": "TwgjGUka3nLR",
        "outputId": "506bf56d-86d5-4091-de99-78cc36e3cff5"
      },
      "execution_count": 14,
      "outputs": [
        {
          "output_type": "display_data",
          "data": {
            "text/plain": [
              "<Figure size 1200x1000 with 1 Axes>"
            ],
            "image/png": "[encoded data removed]"
          },
          "metadata": {}
        }
      ]
    },
    {
      "cell_type": "code",
      "source": [
        "from sklearn.model_selection import train_test_split\n",
        "\n",
        "# Splitting the data into train and test sets (80% train, 20% test)\n",
        "X_train, X_test, y_train, y_test = train_test_split(X_scaled, y, test_size=0.2, random_state=42)\n",
        "\n",
        "# Verifying the shape of the train and test sets\n",
        "print(\"Training set size:\", X_train.shape)\n",
        "print(\"Testing set size:\", X_test.shape)\n"
      ],
      "metadata": {
        "colab": {
          "base_uri": "https://localhost:8080/"
        },
        "id": "raNWP2U03tOA",
        "outputId": "3af9bdcc-a12e-4c63-9e2a-13d73ad4cd53"
      },
      "execution_count": 15,
      "outputs": [
        {
          "output_type": "stream",
          "name": "stdout",
          "text": [
            "Training set size: (454904, 29)\n",
            "Testing set size: (113726, 29)\n"
          ]
        }
      ]
    },
    {
      "cell_type": "code",
      "source": [
        "from imblearn.over_sampling import SMOTE\n",
        "\n",
        "# Applying SMOTE to balance the dataset\n",
        "smote = SMOTE(random_state=42)\n",
        "X_train_balanced, y_train_balanced = smote.fit_resample(X_train, y_train)\n",
        "\n",
        "# Verifying the distribution after SMOTE\n",
        "print(\"Class distribution after SMOTE:\", y_train_balanced.value_counts())\n"
      ],
      "metadata": {
        "colab": {
          "base_uri": "https://localhost:8080/"
        },
        "id": "IZ0IrugU37Ai",
        "outputId": "7f810ec1-0378-4003-9b62-e13adbd15c24"
      },
      "execution_count": 16,
      "outputs": [
        {
          "output_type": "stream",
          "name": "stderr",
          "text": [
            "/usr/local/lib/python3.10/dist-packages/sklearn/base.py:474: FutureWarning: `BaseEstimator._validate_data` is deprecated in 1.6 and will be removed in 1.7. Use `sklearn.utils.validation.validate_data` instead. This function becomes public and is part of the scikit-learn developer API.\n",
            "  warnings.warn(\n",
            "/usr/local/lib/python3.10/dist-packages/sklearn/utils/_tags.py:354: FutureWarning: The SMOTE or classes from which it inherits use `_get_tags` and `_more_tags`. Please define the `__sklearn_tags__` method, or inherit from `sklearn.base.BaseEstimator` and/or other appropriate mixins such as `sklearn.base.TransformerMixin`, `sklearn.base.ClassifierMixin`, `sklearn.base.RegressorMixin`, and `sklearn.base.OutlierMixin`. From scikit-learn 1.7, not defining `__sklearn_tags__` will raise an error.\n",
            "  warnings.warn(\n"
          ]
        },
        {
          "output_type": "stream",
          "name": "stdout",
          "text": [
            "Class distribution after SMOTE: Class\n",
            "1    227565\n",
            "0    227565\n",
            "Name: count, dtype: int64\n"
          ]
        }
      ]
    },
    {
      "cell_type": "markdown",
      "source": [
        "LOGISTIC REGRESSION\n"
      ],
      "metadata": {
        "id": "Z3MU0k4M8Wth"
      }
    },
    {
      "cell_type": "code",
      "source": [
        "from sklearn.linear_model import LogisticRegression\n",
        "from sklearn.metrics import classification_report, confusion_matrix\n",
        "\n",
        "# Initialize the Logistic Regression model\n",
        "logreg = LogisticRegression(random_state=42)\n",
        "\n",
        "# Train the model\n",
        "logreg.fit(X_train_balanced, y_train_balanced)\n",
        "\n",
        "# Make predictions\n",
        "y_pred_logreg = logreg.predict(X_test)\n",
        "\n",
        "# Evaluate the model\n",
        "print(\"Logistic Regression Performance:\")\n",
        "print(classification_report(y_test, y_pred_logreg))\n",
        "print(\"Confusion Matrix:\")\n",
        "print(confusion_matrix(y_test, y_pred_logreg))\n"
      ],
      "metadata": {
        "colab": {
          "base_uri": "https://localhost:8080/"
        },
        "id": "xMOQCgn38Cz4",
        "outputId": "ec33d008-d512-4b38-ef91-55530be1d9eb"
      },
      "execution_count": 17,
      "outputs": [
        {
          "output_type": "stream",
          "name": "stdout",
          "text": [
            "Logistic Regression Performance:\n",
            "              precision    recall  f1-score   support\n",
            "\n",
            "           0       0.95      0.98      0.97     56750\n",
            "           1       0.98      0.95      0.96     56976\n",
            "\n",
            "    accuracy                           0.97    113726\n",
            "   macro avg       0.97      0.97      0.97    113726\n",
            "weighted avg       0.97      0.97      0.97    113726\n",
            "\n",
            "Confusion Matrix:\n",
            "[[55485  1265]\n",
            " [ 2695 54281]]\n"
          ]
        }
      ]
    },
    {
      "cell_type": "markdown",
      "source": [
        "RANDOM FOREST CLASSIFIER"
      ],
      "metadata": {
        "id": "2HOIe2PG8aOu"
      }
    },
    {
      "cell_type": "code",
      "source": [
        "from sklearn.ensemble import RandomForestClassifier\n",
        "\n",
        "# Initialize the Random Forest model\n",
        "rf = RandomForestClassifier(random_state=42)\n",
        "\n",
        "# Train the model\n",
        "rf.fit(X_train_balanced, y_train_balanced)\n",
        "\n",
        "# Make predictions\n",
        "y_pred_rf = rf.predict(X_test)\n",
        "\n",
        "# Evaluate the model\n",
        "print(\"Random Forest Performance:\")\n",
        "print(classification_report(y_test, y_pred_rf))\n",
        "print(\"Confusion Matrix:\")\n",
        "print(confusion_matrix(y_test, y_pred_rf))\n"
      ],
      "metadata": {
        "colab": {
          "base_uri": "https://localhost:8080/"
        },
        "id": "gZyN2Gz28F8r",
        "outputId": "2b168dd8-3fbf-47a9-86f0-52638f937ae4"
      },
      "execution_count": 18,
      "outputs": [
        {
          "output_type": "stream",
          "name": "stdout",
          "text": [
            "Random Forest Performance:\n",
            "              precision    recall  f1-score   support\n",
            "\n",
            "           0       1.00      1.00      1.00     56750\n",
            "           1       1.00      1.00      1.00     56976\n",
            "\n",
            "    accuracy                           1.00    113726\n",
            "   macro avg       1.00      1.00      1.00    113726\n",
            "weighted avg       1.00      1.00      1.00    113726\n",
            "\n",
            "Confusion Matrix:\n",
            "[[56736    14]\n",
            " [    0 56976]]\n"
          ]
        }
      ]
    },
    {
      "cell_type": "markdown",
      "source": [
        "XGBoost Classifier"
      ],
      "metadata": {
        "id": "ORB1dgdk8eWc"
      }
    },
    {
      "cell_type": "code",
      "source": [
        "import xgboost as xgb\n",
        "from sklearn.metrics import classification_report, confusion_matrix\n",
        "\n",
        "# Initialize the XGBoost model\n",
        "xgb_model = xgb.XGBClassifier(random_state=42, eval_metric='logloss')\n",
        "\n",
        "# Train the model\n",
        "xgb_model.fit(X_train_balanced, y_train_balanced)\n",
        "\n",
        "# Make predictions\n",
        "y_pred_xgb = xgb_model.predict(X_test)\n",
        "\n",
        "# Evaluate the model\n",
        "print(\"XGBoost Performance:\")\n",
        "print(classification_report(y_test, y_pred_xgb))\n",
        "print(\"Confusion Matrix:\")\n",
        "print(confusion_matrix(y_test, y_pred_xgb))\n"
      ],
      "metadata": {
        "colab": {
          "base_uri": "https://localhost:8080/"
        },
        "id": "dRZOULUm8I3T",
        "outputId": "cdf3c334-dda3-44a9-d549-1e107b409f1f"
      },
      "execution_count": 19,
      "outputs": [
        {
          "output_type": "stream",
          "name": "stdout",
          "text": [
            "XGBoost Performance:\n",
            "              precision    recall  f1-score   support\n",
            "\n",
            "           0       1.00      1.00      1.00     56750\n",
            "           1       1.00      1.00      1.00     56976\n",
            "\n",
            "    accuracy                           1.00    113726\n",
            "   macro avg       1.00      1.00      1.00    113726\n",
            "weighted avg       1.00      1.00      1.00    113726\n",
            "\n",
            "Confusion Matrix:\n",
            "[[56720    30]\n",
            " [    0 56976]]\n"
          ]
        }
      ]
    },
    {
      "cell_type": "markdown",
      "source": [
        "Hyperparameter Tuning"
      ],
      "metadata": {
        "id": "4hcdwlvL8nmO"
      }
    },
    {
      "cell_type": "code",
      "source": [
        "from sklearn.model_selection import GridSearchCV\n",
        "\n",
        "# Example with Random Forest\n",
        "param_grid_rf = {\n",
        "    'n_estimators': [50, 100, 200],\n",
        "    'max_depth': [5, 10, 15],\n",
        "    'min_samples_split': [2, 5, 10]\n",
        "}\n",
        "\n",
        "# Initialize GridSearchCV\n",
        "grid_search_rf = GridSearchCV(estimator=RandomForestClassifier(random_state=42),\n",
        "                              param_grid=param_grid_rf,\n",
        "                              cv=3,\n",
        "                              scoring='accuracy')\n",
        "\n",
        "# Fit the grid search to the data\n",
        "grid_search_rf.fit(X_train_balanced, y_train_balanced)\n",
        "\n",
        "# Best parameters from GridSearch\n",
        "print(\"Best Parameters for Random Forest:\", grid_search_rf.best_params_)\n",
        "\n",
        "# Evaluate with the best model\n",
        "best_rf = grid_search_rf.best_estimator_\n",
        "y_pred_best_rf = best_rf.predict(X_test)\n",
        "print(\"Best Random Forest Performance:\")\n",
        "print(classification_report(y_test, y_pred_best_rf))\n"
      ],
      "metadata": {
        "id": "N3tZP3icZz9y"
      },
      "execution_count": null,
      "outputs": []
    },
    {
      "cell_type": "markdown",
      "source": [
        "Evaluating model performance"
      ],
      "metadata": {
        "id": "h-P0Zllu-2M1"
      }
    },
    {
      "cell_type": "code",
      "source": [
        "from sklearn.metrics import roc_auc_score, roc_curve\n",
        "\n",
        "# ROC-AUC for evaluating classification performance\n",
        "roc_auc_logreg = roc_auc_score(y_test, logreg.predict_proba(X_test)[:, 1])\n",
        "roc_auc_rf = roc_auc_score(y_test, rf.predict_proba(X_test)[:, 1])\n",
        "roc_auc_xgb = roc_auc_score(y_test, xgb_model.predict_proba(X_test)[:, 1])\n",
        "\n",
        "print(f\"Logistic Regression ROC-AUC: {roc_auc_logreg}\")\n",
        "print(f\"Random Forest ROC-AUC: {roc_auc_rf}\")\n",
        "print(f\"XGBoost ROC-AUC: {roc_auc_xgb}\")\n",
        "\n",
        "# Plotting ROC curve for the best model\n",
        "fpr, tpr, _ = roc_curve(y_test, xgb_model.predict_proba(X_test)[:, 1])\n",
        "plt.figure(figsize=(8, 6))\n",
        "plt.plot(fpr, tpr, label='XGBoost (AUC = {:.2f})'.format(roc_auc_xgb))\n",
        "plt.plot([0, 1], [0, 1], linestyle='--', color='gray')\n",
        "plt.title('ROC Curve for XGBoost')\n",
        "plt.xlabel('False Positive Rate')\n",
        "plt.ylabel('True Positive Rate')\n",
        "plt.legend()\n",
        "plt.show()\n"
      ],
      "metadata": {
        "id": "nc4bY5RMZ3NX"
      },
      "execution_count": null,
      "outputs": []
    },
    {
      "cell_type": "markdown",
      "source": [
        "Model Interpretation"
      ],
      "metadata": {
        "id": "7v_q5Tw8-66g"
      }
    },
    {
      "cell_type": "code",
      "source": [
        "# For Random Forest\n",
        "importances_rf = rf.feature_importances_\n",
        "indices_rf = importances_rf.argsort()[::-1]\n",
        "plt.figure(figsize=(10, 6))\n",
        "plt.barh(X.columns[indices_rf], importances_rf[indices_rf])\n",
        "plt.title('Feature Importance - Random Forest')\n",
        "plt.xlabel('Importance')\n",
        "plt.ylabel('Features')\n",
        "plt.show()\n",
        "\n",
        "# For XGBoost\n",
        "importances_xgb = xgb_model.feature_importances_\n",
        "indices_xgb = importances_xgb.argsort()[::-1]\n",
        "plt.figure(figsize=(10, 6))\n",
        "plt.barh(X.columns[indices_xgb], importances_xgb[indices_xgb])\n",
        "plt.title('Feature Importance - XGBoost')\n",
        "plt.xlabel('Importance')\n",
        "plt.ylabel('Features')\n",
        "plt.show()\n"
      ],
      "metadata": {
        "id": "B3KHf7E_-9wQ"
      },
      "execution_count": null,
      "outputs": []
    }
  ]
}